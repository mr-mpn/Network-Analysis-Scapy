{
 "cells": [
  {
   "cell_type": "markdown",
   "metadata": {},
   "source": [
    "\"Pinging\" typically refers to sending a small data packet from one computer or device to another on a network, usually over the Internet. This is done to check the availability and responsiveness of the target device or server. The process involves sending an ICMP (Internet Control Message Protocol) Echo Request packet to the target and waiting for an ICMP Echo Reply. The time taken for the round trip (known as latency or ping time) is measured, which helps assess network performance and troubleshoot connectivity issues. Pinging is commonly used in diagnostics, network monitoring, and online gaming to measure and optimize network performance."
   ]
  },
  {
   "cell_type": "code",
   "execution_count": null,
   "metadata": {},
   "outputs": [],
   "source": [
    "from pythonping import ping\n",
    "target = 'ftp.nz.debian.org'\n",
    "ping(target, verbose=False, count=20)"
   ]
  },
  {
   "cell_type": "markdown",
   "metadata": {},
   "source": [
    "Now we will try to use scapy to do the same thing. We will create several ICMP echo request packet, send it to our target server and wait for the response. Let's try to understand how scapy works.\n",
    "\n",
    "First we will understand how to create packets by stacking protocol layers"
   ]
  },
  {
   "cell_type": "code",
   "execution_count": null,
   "metadata": {},
   "outputs": [],
   "source": [
    "from scapy.all import *\n",
    "\n",
    "#default IP layer\n",
    "IP().show()\n",
    "\n",
    "#default ICMP layer\n",
    "ICMP().show()\n",
    "\n",
    "#default UDP layer\n",
    "UDP().show()\n",
    "\n",
    "#default TCP layer\n",
    "TCP().show()\n",
    "\n",
    "#create a simple ICMP echo request packet with IP destination 'ftp.nz.debian.org'. You can stack layers with the '/' operand.\n",
    "packet = IP(dst = target) / ICMP()\n",
    "packet.show()"
   ]
  },
  {
   "cell_type": "markdown",
   "metadata": {},
   "source": [
    "Now we'll send the packet we have created. The sr() function can be used to send packets and receive answers at the IP layer. \n",
    "\n",
    "The sr() function returns two outputs: i) a couple of packets sent and answers received and ii) the unanswered packets. \n",
    "\n",
    "```\n",
    "ans, unans = sr(packet)\n",
    "```\n",
    "\n",
    "The structure of the object for answered packets is the following: ans[i][0] stores the i-th sent packet, ans[i][1] the i-th received response "
   ]
  },
  {
   "cell_type": "code",
   "execution_count": null,
   "metadata": {},
   "outputs": [],
   "source": [
    "ans, unans = sr(packet, verbose = False)\n",
    "print('Received ', len(ans), 'packet')\n",
    "print(\"The Complete Sent and Received Packets are : \")\n",
    "print(ans.summary())\n",
    "query = ans[0][0]\n",
    "answer = ans[0][1]\n",
    "print(\"Seperated : \")\n",
    "print(\"***** Query (Sent Traffic) : ***** \")\n",
    "print(query.summary())\n",
    "print(\"***** Received Traffic :  *****\")\n",
    "print(answer.summary())"
   ]
  },
  {
   "cell_type": "markdown",
   "metadata": {},
   "source": [
    "We can also get some timing info from the sent/received packets...\n",
    "\n",
    "\n",
    "\n"
   ]
  },
  {
   "cell_type": "code",
   "execution_count": null,
   "metadata": {},
   "outputs": [],
   "source": [
    "#print(query.sent_time)\n",
    "print(answer.time)\n",
    "rtt = answer.time - query.sent_time\n",
    "print(rtt*1000) #in ms"
   ]
  },
  {
   "cell_type": "markdown",
   "metadata": {},
   "source": [
    "Now we can generate our own ping command using Scapy"
   ]
  },
  {
   "cell_type": "code",
   "execution_count": null,
   "metadata": {},
   "outputs": [],
   "source": [
    "import statistics as stat\n",
    "RTT = []\n",
    "lost = 0\n",
    "replied = 0\n",
    "c = 20\n",
    "for x in range(c):\n",
    "  packet = IP(dst = target) / ICMP(seq=x)\n",
    "  ans, unans = sr(packet, verbose = False)\n",
    "  if(len(ans)>0):\n",
    "    RTT.append((ans[0][1].time - ans[0][0].sent_time)*1000) #in ms\n",
    "    replied=replied+1\n",
    "  if(len(unans)>0):\n",
    "    lost+=unans\n",
    "\n",
    "print('Round Trip Times min/avg/max/std','%.2f' % min(RTT),'%.2f' % (sum(RTT)/len(RTT)), '%.2f' % max(RTT), '%.2f' % stat.stdev(RTT))\n",
    "print('Packets transmitted/replied/unanswered: ',c, replied, lost)"
   ]
  }
 ],
 "metadata": {
  "kernelspec": {
   "display_name": "Python 3",
   "language": "python",
   "name": "python3"
  },
  "language_info": {
   "codemirror_mode": {
    "name": "ipython",
    "version": 3
   },
   "file_extension": ".py",
   "mimetype": "text/x-python",
   "name": "python",
   "nbconvert_exporter": "python",
   "pygments_lexer": "ipython3",
   "version": "3.12.2"
  }
 },
 "nbformat": 4,
 "nbformat_minor": 2
}
